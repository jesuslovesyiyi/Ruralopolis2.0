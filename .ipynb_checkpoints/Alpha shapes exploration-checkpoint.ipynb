{
 "cells": [
  {
   "cell_type": "markdown",
   "id": "6eefc156-a0c1-4300-8730-7e56ef6d45d6",
   "metadata": {},
   "source": [
    "# Import libraries"
   ]
  },
  {
   "cell_type": "code",
   "execution_count": 228,
   "id": "edcc61d5-0039-42aa-a331-3a14d4521412",
   "metadata": {},
   "outputs": [],
   "source": [
    "# Import libraries\n",
    "import rasterio\n",
    "import numpy as np\n",
    "import matplotlib\n",
    "from matplotlib import pyplot\n",
    "from rasterio.plot import show\n",
    "from rasterio.warp import calculate_default_transform, reproject, Resampling\n",
    "import geopandas as gpd"
   ]
  },
  {
   "cell_type": "markdown",
   "id": "de093bab-8a32-4874-9d53-6ae321d0adce",
   "metadata": {},
   "source": [
    "# Extract raster values"
   ]
  },
  {
   "cell_type": "code",
   "execution_count": 125,
   "id": "c2b8591d-fb48-44fa-81ed-7f264724edea",
   "metadata": {},
   "outputs": [
    {
     "data": {
      "text/plain": [
       "array([[[-9999., -9999., -9999., ..., -9999., -9999., -9999.],\n",
       "        [-9999., -9999., -9999., ..., -9999., -9999., -9999.],\n",
       "        [-9999., -9999., -9999., ..., -9999., -9999., -9999.],\n",
       "        ...,\n",
       "        [-9999., -9999., -9999., ..., -9999., -9999., -9999.],\n",
       "        [-9999., -9999., -9999., ..., -9999., -9999., -9999.],\n",
       "        [-9999., -9999., -9999., ..., -9999., -9999., -9999.]]],\n",
       "      dtype=float32)"
      ]
     },
     "execution_count": 125,
     "metadata": {},
     "output_type": "execute_result"
    }
   ],
   "source": [
    "# Read raster file containing 4 GHS settlement classes\n",
    "smod_world_4class = rasterio.open('../01_data/gis/world_4class_binary.tif')\n",
    "\n",
    "# Extract raster profile\n",
    "profile = smod_world_4class.profile.copy()\n",
    "\n",
    "# Extract raster data as numpy array\n",
    "smod_world_4class_data = smod_world_4class.read()\n",
    "\n",
    "# Check extracted data\n",
    "smod_world_4class_data"
   ]
  },
  {
   "cell_type": "code",
   "execution_count": 79,
   "id": "e698c6ba-8463-42f0-aefe-b42a2e8de4e8",
   "metadata": {},
   "outputs": [],
   "source": [
    "# Create bool array aka mask\n",
    "mask = np.isin(smod_world_4class_data.copy(), [-9999., 0], invert=False)\n",
    "\n",
    "# set everything where mask is True to NoData\n",
    "smod_world_4class_data[mask] = profile[\"nodata\"]\n",
    "\n",
    "# Save raster file\n",
    "with rasterio.open('world_4class_1_ND.tif', \"w\", **profile) as output:\n",
    "    output.write(smod_world_4class_data)"
   ]
  },
  {
   "cell_type": "markdown",
   "id": "e425f0a5-9993-4427-bc7c-2ee18c5a6a85",
   "metadata": {},
   "source": [
    "# Reproject raster to WGS"
   ]
  },
  {
   "cell_type": "code",
   "execution_count": 177,
   "id": "07cb5bba-8095-4a0f-a056-78900f452b12",
   "metadata": {},
   "outputs": [
    {
     "name": "stdout",
     "output_type": "stream",
     "text": [
      "Source raster CRS: ESRI:54009\n"
     ]
    }
   ],
   "source": [
    "# Read raster file\n",
    "smod_world_4class_1ND = rasterio.open('../01_data/gis/world_4class_1_ND.tif')\n",
    "\n",
    "# Print source CRS\n",
    "print('Source raster CRS:',smod_world_4class_1ND.crs)"
   ]
  },
  {
   "cell_type": "code",
   "execution_count": 179,
   "id": "6c834b15-83ef-4da8-91d5-b782974c9a0b",
   "metadata": {},
   "outputs": [],
   "source": [
    "# Source and target CRS\n",
    "target_crs = {'init': 'EPSG:4326'}\n",
    "src_crs = smod_world_4class_1ND.crs\n",
    "\n",
    "# Calculate transform array and shape of reprojected raster\n",
    "transform, width, height = calculate_default_transform(src_crs,\n",
    "                                                       target_crs,\n",
    "                                                      smod_world_4class_1ND.width,\n",
    "                                                      smod_world_4class_1ND.height,\n",
    "                                                      *smod_world_4class_1ND.bounds)"
   ]
  },
  {
   "cell_type": "code",
   "execution_count": 189,
   "id": "925d9feb-80da-4313-b579-aa5a565ac864",
   "metadata": {},
   "outputs": [],
   "source": [
    "# Update the meta data for the target/transformed raster\n",
    "kwargs = smod_world_4class_1ND.meta.copy()\n",
    "\n",
    "kwargs.update(\n",
    "    {\n",
    "        'crs': target_crs,\n",
    "        'transform': transform,\n",
    "        'width': width,\n",
    "        'height': height\n",
    "    }\n",
    ")"
   ]
  },
  {
   "cell_type": "code",
   "execution_count": 194,
   "id": "b7db2e75-8881-4a2f-ab1c-804c30d90f82",
   "metadata": {},
   "outputs": [],
   "source": [
    "# Open target raster\n",
    "target_raster = rasterio.open('../01_data/gis/world_4class_1_ND_WGS84.tif', 'w', **kwargs)\n",
    "\n",
    "# Reproject and save raster data\n",
    "for i in range(1, smod_world_4class_1ND.count+1):\n",
    "    reproject(\n",
    "        source=rasterio.band(smod_world_4class_1ND, i),\n",
    "        destination=rasterio.band(target_raster, i),\n",
    "        src_transform=smod_world_4class_1ND.transform,\n",
    "        src_crs=smod_world_4class_1ND.crs,\n",
    "        dst_transform=transform,\n",
    "        dst_crs=target_crs,\n",
    "        resampling=Resampling.nearest\n",
    "    )\n",
    "\n",
    "# Close target raster\n",
    "target_raster.close()"
   ]
  },
  {
   "cell_type": "markdown",
   "id": "f2213b5c-9dac-49c5-854c-170d3d63e5a7",
   "metadata": {},
   "source": [
    "# Convert raster to points"
   ]
  },
  {
   "cell_type": "markdown",
   "id": "d73e6f70-73d7-45e7-8b56-7823ac07b18d",
   "metadata": {},
   "source": [
    "# Centroids"
   ]
  },
  {
   "cell_type": "code",
   "execution_count": 212,
   "id": "4bcce9a3-a948-4875-81db-8c09fafda228",
   "metadata": {},
   "outputs": [],
   "source": [
    "# Read source raster data\n",
    "src_rst = rasterio.open('../01_data/gis/world_4class_1_ND_WGS84.tif')"
   ]
  },
  {
   "cell_type": "code",
   "execution_count": 214,
   "id": "50eb2995-556e-4bb5-a4bf-265b0b4e3c68",
   "metadata": {},
   "outputs": [],
   "source": [
    "# Generate a grid of all possible row/column index combinations\n",
    "height = src_rst.shape[0]\n",
    "width = src_rst.shape[1]\n",
    "cols, rows = np.meshgrid(np.arange(width), np.arange(height))"
   ]
  },
  {
   "cell_type": "code",
   "execution_count": 222,
   "id": "b167ce41-6ef8-471a-ad9e-36dfc8d7c558",
   "metadata": {},
   "outputs": [],
   "source": [
    "# Transform the indices (cols, rows) into point coordinates, accordingly stored in lists of arrays x and y\n",
    "x, y = rasterio.transform.xy(src_rst.transform, rows, cols)"
   ]
  },
  {
   "cell_type": "code",
   "execution_count": 260,
   "id": "d51f3a8f-32a8-4481-a230-7e711406cb1c",
   "metadata": {},
   "outputs": [],
   "source": [
    "# Transform the coordinates as well as any attributes to 1-dimensional arrays and then combine them into a GeoDataFrame\n",
    "x = np.array(x).flatten()\n",
    "y = np.array(y).flatten()\n",
    "z = src_rst.read(1).flatten()\n",
    "\n",
    "# Form points where the z value is none-zero (-9999: \"nodata\", 1:\"data\")\n",
    "geom = gpd.points_from_xy(x[z>0], y[z>0], crs=src_rst.crs)\n",
    "pnt = gpd.GeoDataFrame(data={'value':z[z>0]}, geometry=geom)"
   ]
  },
  {
   "cell_type": "code",
   "execution_count": 264,
   "id": "c2e2b72b-7240-4fc5-83ed-84541c0ee058",
   "metadata": {},
   "outputs": [],
   "source": [
    "# Save as point shapefile\n",
    "### 3 mins to run\n",
    "pnt.to_file('../01_data/gis/world_4class_1_ND_WGS84_pnt.shp')  "
   ]
  },
  {
   "cell_type": "code",
   "execution_count": null,
   "id": "e89ab363-783c-49b1-9738-1b05a4034de1",
   "metadata": {},
   "outputs": [],
   "source": []
  },
  {
   "cell_type": "code",
   "execution_count": null,
   "id": "8dc558ae-49b7-4d6d-9a1f-57b2f666df27",
   "metadata": {},
   "outputs": [],
   "source": []
  },
  {
   "cell_type": "code",
   "execution_count": null,
   "id": "4978369b-4ffc-4237-9e42-8b87ccfc6463",
   "metadata": {},
   "outputs": [],
   "source": []
  }
 ],
 "metadata": {
  "kernelspec": {
   "display_name": "ruralopolis0",
   "language": "python",
   "name": "ruralopolis0"
  },
  "language_info": {
   "codemirror_mode": {
    "name": "ipython",
    "version": 3
   },
   "file_extension": ".py",
   "mimetype": "text/x-python",
   "name": "python",
   "nbconvert_exporter": "python",
   "pygments_lexer": "ipython3",
   "version": "3.12.4"
  }
 },
 "nbformat": 4,
 "nbformat_minor": 5
}
