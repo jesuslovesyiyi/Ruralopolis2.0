{
 "cells": [
  {
   "cell_type": "markdown",
   "id": "6eefc156-a0c1-4300-8730-7e56ef6d45d6",
   "metadata": {},
   "source": [
    "# Import libraries"
   ]
  },
  {
   "cell_type": "code",
   "execution_count": 166,
   "id": "edcc61d5-0039-42aa-a331-3a14d4521412",
   "metadata": {},
   "outputs": [],
   "source": [
    "# Import libraries\n",
    "import rasterio\n",
    "import numpy as np\n",
    "import matplotlib\n",
    "from matplotlib import pyplot\n",
    "from rasterio.plot import show\n",
    "from rasterio.warp import calculate_default_transform, reproject, Resampling"
   ]
  },
  {
   "cell_type": "markdown",
   "id": "de093bab-8a32-4874-9d53-6ae321d0adce",
   "metadata": {},
   "source": [
    "# Extract raster values"
   ]
  },
  {
   "cell_type": "code",
   "execution_count": 125,
   "id": "c2b8591d-fb48-44fa-81ed-7f264724edea",
   "metadata": {},
   "outputs": [
    {
     "data": {
      "text/plain": [
       "array([[[-9999., -9999., -9999., ..., -9999., -9999., -9999.],\n",
       "        [-9999., -9999., -9999., ..., -9999., -9999., -9999.],\n",
       "        [-9999., -9999., -9999., ..., -9999., -9999., -9999.],\n",
       "        ...,\n",
       "        [-9999., -9999., -9999., ..., -9999., -9999., -9999.],\n",
       "        [-9999., -9999., -9999., ..., -9999., -9999., -9999.],\n",
       "        [-9999., -9999., -9999., ..., -9999., -9999., -9999.]]],\n",
       "      dtype=float32)"
      ]
     },
     "execution_count": 125,
     "metadata": {},
     "output_type": "execute_result"
    }
   ],
   "source": [
    "# Read raster file containing 4 GHS settlement classes\n",
    "smod_world_4class = rasterio.open('../01_data/gis/world_4class_binary.tif')\n",
    "\n",
    "# Extract raster profile\n",
    "profile = smod_world_4class.profile.copy()\n",
    "\n",
    "# Extract raster data as numpy array\n",
    "smod_world_4class_data = smod_world_4class.read()\n",
    "\n",
    "# Check extracted data\n",
    "smod_world_4class_data"
   ]
  },
  {
   "cell_type": "code",
   "execution_count": 79,
   "id": "e698c6ba-8463-42f0-aefe-b42a2e8de4e8",
   "metadata": {},
   "outputs": [],
   "source": [
    "# Create bool array aka mask\n",
    "mask = np.isin(smod_world_4class_data.copy(), [-9999., 0], invert=False)\n",
    "\n",
    "# set everything where mask is True to NoData\n",
    "smod_world_4class_data[mask] = profile[\"nodata\"]\n",
    "\n",
    "# Save raster file\n",
    "with rasterio.open('world_4class_1_ND.tif', \"w\", **profile) as output:\n",
    "    output.write(smod_world_4class_data)"
   ]
  },
  {
   "cell_type": "markdown",
   "id": "e425f0a5-9993-4427-bc7c-2ee18c5a6a85",
   "metadata": {},
   "source": [
    "# Create points from centroids"
   ]
  },
  {
   "cell_type": "code",
   "execution_count": 140,
   "id": "07cb5bba-8095-4a0f-a056-78900f452b12",
   "metadata": {},
   "outputs": [],
   "source": [
    "# Read raster file\n",
    "smod_world_4class_1ND = rasterio.open('../01_data/gis/world_4class_1_ND.tif')"
   ]
  },
  {
   "cell_type": "code",
   "execution_count": null,
   "id": "6c834b15-83ef-4da8-91d5-b782974c9a0b",
   "metadata": {},
   "outputs": [],
   "source": [
    "# Reproject raster to WGS\n",
    "target_crs = {'init': 'EPSG:4326'}\n",
    "\n",
    "# Calculate transform array and shape of "
   ]
  },
  {
   "cell_type": "code",
   "execution_count": 146,
   "id": "469e0ff5-ac96-45f5-a521-c1e559326ff6",
   "metadata": {},
   "outputs": [],
   "source": [
    "\n",
    "height = smod_world_4class_1ND.read().shape[1]\n",
    "width = smod_world_4class_1ND.read().shape[2]\n",
    "\n",
    "cols, rows = np.meshgrid(np.arange(width), np.arange(height))\n",
    "xs, ys = rasterio.transform.xy(smod_world_4class_1ND.transform, rows, cols)"
   ]
  },
  {
   "cell_type": "code",
   "execution_count": 148,
   "id": "77ccaa8c-581f-4c8a-9d0c-52cd650bbefb",
   "metadata": {},
   "outputs": [],
   "source": [
    "lons = np.array(xs)\n",
    "lats = np.array(ys)"
   ]
  },
  {
   "cell_type": "code",
   "execution_count": 162,
   "id": "486ae7af-ea53-4b3c-a05c-ebfaaf572f7a",
   "metadata": {},
   "outputs": [
    {
     "name": "stdout",
     "output_type": "stream",
     "text": [
      "ESRI:54009\n"
     ]
    }
   ],
   "source": [
    "print(smod_world_4class_1ND.crs)"
   ]
  },
  {
   "cell_type": "code",
   "execution_count": 105,
   "id": "f44d6dc7-1c91-4047-a043-5324c96f4e73",
   "metadata": {},
   "outputs": [],
   "source": [
    "cols, rows = np.meshgrid(np.arange(width), np.arange(height))"
   ]
  },
  {
   "cell_type": "code",
   "execution_count": 111,
   "id": "5d7e946a-a4e0-40f4-a6e7-fdfba3076550",
   "metadata": {},
   "outputs": [
    {
     "ename": "AttributeError",
     "evalue": "'numpy.ndarray' object has no attribute 'transform'",
     "output_type": "error",
     "traceback": [
      "\u001b[0;31m---------------------------------------------------------------------------\u001b[0m",
      "\u001b[0;31mAttributeError\u001b[0m                            Traceback (most recent call last)",
      "Cell \u001b[0;32mIn[111], line 1\u001b[0m\n\u001b[0;32m----> 1\u001b[0m xs, ys \u001b[38;5;241m=\u001b[39m rasterio\u001b[38;5;241m.\u001b[39mtransform\u001b[38;5;241m.\u001b[39mxy(\u001b[43msmod_world_4class_data\u001b[49m\u001b[38;5;241;43m.\u001b[39;49m\u001b[43mtransform\u001b[49m, rows, cols)\n",
      "\u001b[0;31mAttributeError\u001b[0m: 'numpy.ndarray' object has no attribute 'transform'"
     ]
    }
   ],
   "source": [
    "xs, ys = rasterio.transform.xy(smod_world_4class_data.transform, rows, cols)"
   ]
  },
  {
   "cell_type": "code",
   "execution_count": 113,
   "id": "55dc282e-4d5e-4911-9c54-7ff7f5ec6eca",
   "metadata": {},
   "outputs": [
    {
     "data": {
      "text/plain": [
       "numpy.ndarray"
      ]
     },
     "execution_count": 113,
     "metadata": {},
     "output_type": "execute_result"
    }
   ],
   "source": [
    "type(smod_world_4class_data)"
   ]
  },
  {
   "cell_type": "code",
   "execution_count": 158,
   "id": "dd75878a-3833-4c50-95bc-ecb11b74a919",
   "metadata": {},
   "outputs": [
    {
     "data": {
      "text/plain": [
       "array([[ 8999500.,  8999500.,  8999500., ...,  8999500.,  8999500.,\n",
       "         8999500.],\n",
       "       [ 8998500.,  8998500.,  8998500., ...,  8998500.,  8998500.,\n",
       "         8998500.],\n",
       "       [ 8997500.,  8997500.,  8997500., ...,  8997500.,  8997500.,\n",
       "         8997500.],\n",
       "       ...,\n",
       "       [-8997500., -8997500., -8997500., ..., -8997500., -8997500.,\n",
       "        -8997500.],\n",
       "       [-8998500., -8998500., -8998500., ..., -8998500., -8998500.,\n",
       "        -8998500.],\n",
       "       [-8999500., -8999500., -8999500., ..., -8999500., -8999500.,\n",
       "        -8999500.]])"
      ]
     },
     "execution_count": 158,
     "metadata": {},
     "output_type": "execute_result"
    }
   ],
   "source": [
    "lats"
   ]
  },
  {
   "cell_type": "code",
   "execution_count": null,
   "id": "70fa6be2-c6c8-4f66-96ce-03f41a9ca535",
   "metadata": {},
   "outputs": [],
   "source": []
  }
 ],
 "metadata": {
  "kernelspec": {
   "display_name": "ruralopolis0",
   "language": "python",
   "name": "ruralopolis0"
  },
  "language_info": {
   "codemirror_mode": {
    "name": "ipython",
    "version": 3
   },
   "file_extension": ".py",
   "mimetype": "text/x-python",
   "name": "python",
   "nbconvert_exporter": "python",
   "pygments_lexer": "ipython3",
   "version": "3.12.4"
  }
 },
 "nbformat": 4,
 "nbformat_minor": 5
}
