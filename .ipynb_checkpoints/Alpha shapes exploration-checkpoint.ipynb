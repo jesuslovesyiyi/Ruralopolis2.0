{
 "cells": [
  {
   "cell_type": "markdown",
   "id": "6eefc156-a0c1-4300-8730-7e56ef6d45d6",
   "metadata": {},
   "source": [
    "# Import libraries"
   ]
  },
  {
   "cell_type": "code",
   "execution_count": 3,
   "id": "edcc61d5-0039-42aa-a331-3a14d4521412",
   "metadata": {},
   "outputs": [],
   "source": [
    "# Import libraries\n",
    "import rasterio\n",
    "import numpy as np\n",
    "import matplotlib\n",
    "from matplotlib import pyplot\n",
    "from rasterio.plot import show\n",
    "from rasterio.warp import calculate_default_transform, reproject, Resampling\n",
    "import geopandas as gpd"
   ]
  },
  {
   "cell_type": "markdown",
   "id": "de093bab-8a32-4874-9d53-6ae321d0adce",
   "metadata": {},
   "source": [
    "# Extract raster values"
   ]
  },
  {
   "cell_type": "code",
   "execution_count": 125,
   "id": "c2b8591d-fb48-44fa-81ed-7f264724edea",
   "metadata": {},
   "outputs": [
    {
     "data": {
      "text/plain": [
       "array([[[-9999., -9999., -9999., ..., -9999., -9999., -9999.],\n",
       "        [-9999., -9999., -9999., ..., -9999., -9999., -9999.],\n",
       "        [-9999., -9999., -9999., ..., -9999., -9999., -9999.],\n",
       "        ...,\n",
       "        [-9999., -9999., -9999., ..., -9999., -9999., -9999.],\n",
       "        [-9999., -9999., -9999., ..., -9999., -9999., -9999.],\n",
       "        [-9999., -9999., -9999., ..., -9999., -9999., -9999.]]],\n",
       "      dtype=float32)"
      ]
     },
     "execution_count": 125,
     "metadata": {},
     "output_type": "execute_result"
    }
   ],
   "source": [
    "# Read raster file containing 4 GHS settlement classes\n",
    "smod_world_4class = rasterio.open('../01_data/gis/world_4class_binary.tif')\n",
    "\n",
    "# Extract raster profile\n",
    "profile = smod_world_4class.profile.copy()\n",
    "\n",
    "# Extract raster data as numpy array\n",
    "smod_world_4class_data = smod_world_4class.read()\n",
    "\n",
    "# Check extracted data\n",
    "smod_world_4class_data"
   ]
  },
  {
   "cell_type": "code",
   "execution_count": 79,
   "id": "e698c6ba-8463-42f0-aefe-b42a2e8de4e8",
   "metadata": {},
   "outputs": [],
   "source": [
    "# Create bool array aka mask\n",
    "mask = np.isin(smod_world_4class_data.copy(), [-9999., 0], invert=False)\n",
    "\n",
    "# set everything where mask is True to NoData\n",
    "smod_world_4class_data[mask] = profile[\"nodata\"]\n",
    "\n",
    "# Save raster file\n",
    "with rasterio.open('world_4class_1_ND.tif', \"w\", **profile) as output:\n",
    "    output.write(smod_world_4class_data)"
   ]
  },
  {
   "cell_type": "markdown",
   "id": "e425f0a5-9993-4427-bc7c-2ee18c5a6a85",
   "metadata": {},
   "source": [
    "# Reproject raster to WGS"
   ]
  },
  {
   "cell_type": "code",
   "execution_count": 177,
   "id": "07cb5bba-8095-4a0f-a056-78900f452b12",
   "metadata": {},
   "outputs": [
    {
     "name": "stdout",
     "output_type": "stream",
     "text": [
      "Source raster CRS: ESRI:54009\n"
     ]
    }
   ],
   "source": [
    "# Read raster file\n",
    "smod_world_4class_1ND = rasterio.open('../01_data/gis/world_4class_1_ND.tif')\n",
    "\n",
    "# Print source CRS\n",
    "print('Source raster CRS:',smod_world_4class_1ND.crs)"
   ]
  },
  {
   "cell_type": "code",
   "execution_count": 179,
   "id": "6c834b15-83ef-4da8-91d5-b782974c9a0b",
   "metadata": {},
   "outputs": [],
   "source": [
    "# Source and target CRS\n",
    "target_crs = {'init': 'EPSG:4326'}\n",
    "src_crs = smod_world_4class_1ND.crs\n",
    "\n",
    "# Calculate transform array and shape of reprojected raster\n",
    "transform, width, height = calculate_default_transform(src_crs,\n",
    "                                                       target_crs,\n",
    "                                                      smod_world_4class_1ND.width,\n",
    "                                                      smod_world_4class_1ND.height,\n",
    "                                                      *smod_world_4class_1ND.bounds)"
   ]
  },
  {
   "cell_type": "code",
   "execution_count": 189,
   "id": "925d9feb-80da-4313-b579-aa5a565ac864",
   "metadata": {},
   "outputs": [],
   "source": [
    "# Update the meta data for the target/transformed raster\n",
    "kwargs = smod_world_4class_1ND.meta.copy()\n",
    "\n",
    "kwargs.update(\n",
    "    {\n",
    "        'crs': target_crs,\n",
    "        'transform': transform,\n",
    "        'width': width,\n",
    "        'height': height\n",
    "    }\n",
    ")"
   ]
  },
  {
   "cell_type": "code",
   "execution_count": 194,
   "id": "b7db2e75-8881-4a2f-ab1c-804c30d90f82",
   "metadata": {},
   "outputs": [],
   "source": [
    "# Open target raster\n",
    "target_raster = rasterio.open('../01_data/gis/world_4class_1_ND_WGS84.tif', 'w', **kwargs)\n",
    "\n",
    "# Reproject and save raster data\n",
    "for i in range(1, smod_world_4class_1ND.count+1):\n",
    "    reproject(\n",
    "        source=rasterio.band(smod_world_4class_1ND, i),\n",
    "        destination=rasterio.band(target_raster, i),\n",
    "        src_transform=smod_world_4class_1ND.transform,\n",
    "        src_crs=smod_world_4class_1ND.crs,\n",
    "        dst_transform=transform,\n",
    "        dst_crs=target_crs,\n",
    "        resampling=Resampling.nearest\n",
    "    )\n",
    "\n",
    "# Close target raster\n",
    "target_raster.close()"
   ]
  },
  {
   "cell_type": "markdown",
   "id": "f2213b5c-9dac-49c5-854c-170d3d63e5a7",
   "metadata": {},
   "source": [
    "# Convert raster to points"
   ]
  },
  {
   "cell_type": "markdown",
   "id": "d73e6f70-73d7-45e7-8b56-7823ac07b18d",
   "metadata": {},
   "source": [
    "# Centroids"
   ]
  },
  {
   "cell_type": "code",
   "execution_count": 280,
   "id": "4bcce9a3-a948-4875-81db-8c09fafda228",
   "metadata": {},
   "outputs": [],
   "source": [
    "# Read source raster data\n",
    "src_rst = rasterio.open('../01_data/gis/world_4class_1_ND_WGS84.tif')"
   ]
  },
  {
   "cell_type": "code",
   "execution_count": 282,
   "id": "50eb2995-556e-4bb5-a4bf-265b0b4e3c68",
   "metadata": {},
   "outputs": [],
   "source": [
    "# Generate a grid of all possible row/column index combinations\n",
    "height = src_rst.shape[0]\n",
    "width = src_rst.shape[1]\n",
    "cols, rows = np.meshgrid(np.arange(width), np.arange(height))"
   ]
  },
  {
   "cell_type": "code",
   "execution_count": 284,
   "id": "b167ce41-6ef8-471a-ad9e-36dfc8d7c558",
   "metadata": {},
   "outputs": [],
   "source": [
    "# Transform the indices (cols, rows) into point coordinates, accordingly stored in lists of arrays x and y\n",
    "x, y = rasterio.transform.xy(src_rst.transform, rows, cols)"
   ]
  },
  {
   "cell_type": "code",
   "execution_count": 285,
   "id": "d51f3a8f-32a8-4481-a230-7e711406cb1c",
   "metadata": {},
   "outputs": [],
   "source": [
    "# Transform the coordinates as well as any attributes to 1-dimensional arrays and then combine them into a GeoDataFrame\n",
    "x = np.array(x).flatten()\n",
    "y = np.array(y).flatten()\n",
    "z = src_rst.read(1).flatten()\n",
    "\n",
    "# Form points where the z value is none-zero (-9999: \"nodata\", 1:\"data\")\n",
    "geom = gpd.points_from_xy(x[z>0], y[z>0], crs=src_rst.crs) # lon, lat, crs\n",
    "pnt = gpd.GeoDataFrame(data={'value':z[z>0]}, geometry=geom)"
   ]
  },
  {
   "cell_type": "code",
   "execution_count": 287,
   "id": "c2e2b72b-7240-4fc5-83ed-84541c0ee058",
   "metadata": {},
   "outputs": [],
   "source": [
    "# Save as point shapefile\n",
    "### 3 mins to run\n",
    "pnt.to_file('../01_data/gis/world_4class_1_ND_WGS84_pnt.shp')  "
   ]
  },
  {
   "cell_type": "markdown",
   "id": "1eec9a38-6d85-4961-9e05-342bcc48465b",
   "metadata": {},
   "source": [
    "# Corners"
   ]
  },
  {
   "cell_type": "code",
   "execution_count": 187,
   "id": "4961247c-2473-4081-a712-02551ffa2432",
   "metadata": {},
   "outputs": [],
   "source": [
    "# Read source raster data\n",
    "src_rst = rasterio.open('../01_data/gis/world_4class_1_ND_WGS84.tif')\n",
    "\n",
    "# Generate a grid of all possible row/column index combinations\n",
    "height = src_rst.shape[0]\n",
    "width = src_rst.shape[1]\n",
    "cols, rows = np.meshgrid(np.arange(width), np.arange(height))\n",
    "\n",
    "lon = np.empty([0,])\n",
    "lat = np.empty([0,])\n",
    "z = src_rst.read(1).flatten()\n",
    "for pos in ['ul', 'ur', 'll', 'lr']:\n",
    "    # Transform the indices (cols, rows) into point coordinates, accordingly stored in lists of arrays x and y\n",
    "    x, y = rasterio.transform.xy(src_rst.transform, rows, cols, offset=pos)\n",
    "    \n",
    "    # Transform the coordinates as well as any attributes to 1-dimensional arrays and then combine them into a GeoDataFrame\n",
    "    x = np.array(x).flatten()\n",
    "    y = np.array(y).flatten()\n",
    "\n",
    "    lon = np.append(lon, x[z>0])\n",
    "    lat = np.append(lat, y[z>0])\n",
    "\n",
    "# Getting rid of duplicate points\n",
    "lon_lat_lst = [(lon[i], lat[i]) for i in range(0, lon.shape[0])]\n",
    "lon_lat_unique = list(set(lon_lat_lst))\n",
    "\n",
    "\n",
    "# Form points where the z value is none-zero (-9999: \"nodata\", 1:\"data\")\n",
    "# geom = gpd.points_from_xy(x[z>0], y[z>0], crs=src_rst.crs)"
   ]
  },
  {
   "cell_type": "code",
   "execution_count": 153,
   "id": "7afee22e-c0bb-47ea-ac48-0b7c53693f94",
   "metadata": {},
   "outputs": [
    {
     "data": {
      "text/plain": [
       "5319243"
      ]
     },
     "execution_count": 153,
     "metadata": {},
     "output_type": "execute_result"
    }
   ],
   "source": [
    "len(lon_lat_tuple)"
   ]
  },
  {
   "cell_type": "code",
   "execution_count": 191,
   "id": "e7666e4a-db91-41a7-a40d-3c3906e4b972",
   "metadata": {},
   "outputs": [
    {
     "data": {
      "text/plain": [
       "5319243"
      ]
     },
     "execution_count": 191,
     "metadata": {},
     "output_type": "execute_result"
    }
   ],
   "source": [
    "len(lon_lat_unique)"
   ]
  },
  {
   "cell_type": "code",
   "execution_count": 157,
   "id": "5ec885ec-a70b-4d15-ad7c-4bf146e373d5",
   "metadata": {},
   "outputs": [
    {
     "data": {
      "text/plain": [
       "array([-179.99003673, -179.980075  , -179.97011326, ...,  179.97720424,\n",
       "        179.98716597,  179.9971277 ])"
      ]
     },
     "execution_count": 157,
     "metadata": {},
     "output_type": "execute_result"
    }
   ],
   "source": [
    "x"
   ]
  },
  {
   "cell_type": "code",
   "execution_count": null,
   "id": "299a22b2-e41a-49bf-92a6-90f5ea37ea2f",
   "metadata": {},
   "outputs": [],
   "source": []
  },
  {
   "cell_type": "code",
   "execution_count": 183,
   "id": "a368d829-c397-4b3a-9c78-b90fda754890",
   "metadata": {},
   "outputs": [],
   "source": [
    "test_list = [(1,2), (1,3), (1,3)]"
   ]
  },
  {
   "cell_type": "code",
   "execution_count": 185,
   "id": "deba4118-3796-4324-ad4b-902fad236842",
   "metadata": {},
   "outputs": [
    {
     "data": {
      "text/plain": [
       "[(1, 2), (1, 3)]"
      ]
     },
     "execution_count": 185,
     "metadata": {},
     "output_type": "execute_result"
    }
   ],
   "source": [
    "list(set(test_list))"
   ]
  },
  {
   "cell_type": "code",
   "execution_count": 159,
   "id": "a57ea000-53b7-46d4-b5e3-4f12e9f000a8",
   "metadata": {},
   "outputs": [],
   "source": [
    "lon_lat_tuple_sample = lon_lat_tuple[:3]"
   ]
  },
  {
   "cell_type": "code",
   "execution_count": 161,
   "id": "c760365e-f4f4-4e22-8d28-6bc22743b2ea",
   "metadata": {},
   "outputs": [
    {
     "data": {
      "text/plain": [
       "(tuple[116.33168873838835, 40.22908000893385],\n",
       " tuple[77.16215251379847, 28.643583918089995],\n",
       " tuple[121.77079524363407, 39.65129946442057])"
      ]
     },
     "execution_count": 161,
     "metadata": {},
     "output_type": "execute_result"
    }
   ],
   "source": [
    "lon_lat_tuple_sample"
   ]
  },
  {
   "cell_type": "code",
   "execution_count": 165,
   "id": "de934029-4778-46c9-81a5-6f77729669ce",
   "metadata": {},
   "outputs": [
    {
     "data": {
      "text/plain": [
       "[tuple[116.33168873838835, 40.22908000893385],\n",
       " tuple[77.16215251379847, 28.643583918089995],\n",
       " tuple[121.77079524363407, 39.65129946442057]]"
      ]
     },
     "execution_count": 165,
     "metadata": {},
     "output_type": "execute_result"
    }
   ],
   "source": [
    "[lon_lat_tuple_sample[a] for a in range(3)]"
   ]
  },
  {
   "cell_type": "code",
   "execution_count": 171,
   "id": "2ece1b74-cfed-4b11-819d-30c50723a90b",
   "metadata": {},
   "outputs": [
    {
     "data": {
      "text/plain": [
       "tuple[116.33168873838835, 40.22908000893385]"
      ]
     },
     "execution_count": 171,
     "metadata": {},
     "output_type": "execute_result"
    }
   ],
   "source": [
    "lon_lat_tuple_sample[0]"
   ]
  },
  {
   "cell_type": "markdown",
   "id": "b44cfc50-8817-4948-8105-68e2ec69a4c3",
   "metadata": {},
   "source": [
    "# Alpha shapes"
   ]
  },
  {
   "cell_type": "code",
   "execution_count": null,
   "id": "8dc558ae-49b7-4d6d-9a1f-57b2f666df27",
   "metadata": {},
   "outputs": [],
   "source": []
  },
  {
   "cell_type": "code",
   "execution_count": null,
   "id": "1c23bf44-3f96-4fac-bb02-0f17181fa19b",
   "metadata": {},
   "outputs": [],
   "source": []
  }
 ],
 "metadata": {
  "kernelspec": {
   "display_name": "ruralopolis1",
   "language": "python",
   "name": "ruralopolis1"
  },
  "language_info": {
   "codemirror_mode": {
    "name": "ipython",
    "version": 3
   },
   "file_extension": ".py",
   "mimetype": "text/x-python",
   "name": "python",
   "nbconvert_exporter": "python",
   "pygments_lexer": "ipython3",
   "version": "3.12.4"
  }
 },
 "nbformat": 4,
 "nbformat_minor": 5
}
