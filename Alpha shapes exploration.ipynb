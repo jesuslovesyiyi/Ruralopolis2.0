{
 "cells": [
  {
   "cell_type": "markdown",
   "id": "6eefc156-a0c1-4300-8730-7e56ef6d45d6",
   "metadata": {},
   "source": [
    "# Import libraries"
   ]
  },
  {
   "cell_type": "code",
   "execution_count": 166,
   "id": "edcc61d5-0039-42aa-a331-3a14d4521412",
   "metadata": {},
   "outputs": [],
   "source": [
    "# Import libraries\n",
    "import rasterio\n",
    "import numpy as np\n",
    "import matplotlib\n",
    "from matplotlib import pyplot\n",
    "from rasterio.plot import show\n",
    "from rasterio.warp import calculate_default_transform, reproject, Resampling"
   ]
  },
  {
   "cell_type": "markdown",
   "id": "de093bab-8a32-4874-9d53-6ae321d0adce",
   "metadata": {},
   "source": [
    "# Extract raster values"
   ]
  },
  {
   "cell_type": "code",
   "execution_count": 125,
   "id": "c2b8591d-fb48-44fa-81ed-7f264724edea",
   "metadata": {},
   "outputs": [
    {
     "data": {
      "text/plain": [
       "array([[[-9999., -9999., -9999., ..., -9999., -9999., -9999.],\n",
       "        [-9999., -9999., -9999., ..., -9999., -9999., -9999.],\n",
       "        [-9999., -9999., -9999., ..., -9999., -9999., -9999.],\n",
       "        ...,\n",
       "        [-9999., -9999., -9999., ..., -9999., -9999., -9999.],\n",
       "        [-9999., -9999., -9999., ..., -9999., -9999., -9999.],\n",
       "        [-9999., -9999., -9999., ..., -9999., -9999., -9999.]]],\n",
       "      dtype=float32)"
      ]
     },
     "execution_count": 125,
     "metadata": {},
     "output_type": "execute_result"
    }
   ],
   "source": [
    "# Read raster file containing 4 GHS settlement classes\n",
    "smod_world_4class = rasterio.open('../01_data/gis/world_4class_binary.tif')\n",
    "\n",
    "# Extract raster profile\n",
    "profile = smod_world_4class.profile.copy()\n",
    "\n",
    "# Extract raster data as numpy array\n",
    "smod_world_4class_data = smod_world_4class.read()\n",
    "\n",
    "# Check extracted data\n",
    "smod_world_4class_data"
   ]
  },
  {
   "cell_type": "code",
   "execution_count": 79,
   "id": "e698c6ba-8463-42f0-aefe-b42a2e8de4e8",
   "metadata": {},
   "outputs": [],
   "source": [
    "# Create bool array aka mask\n",
    "mask = np.isin(smod_world_4class_data.copy(), [-9999., 0], invert=False)\n",
    "\n",
    "# set everything where mask is True to NoData\n",
    "smod_world_4class_data[mask] = profile[\"nodata\"]\n",
    "\n",
    "# Save raster file\n",
    "with rasterio.open('world_4class_1_ND.tif', \"w\", **profile) as output:\n",
    "    output.write(smod_world_4class_data)"
   ]
  },
  {
   "cell_type": "markdown",
   "id": "e425f0a5-9993-4427-bc7c-2ee18c5a6a85",
   "metadata": {},
   "source": [
    "# Reproject raster to WGS"
   ]
  },
  {
   "cell_type": "code",
   "execution_count": 177,
   "id": "07cb5bba-8095-4a0f-a056-78900f452b12",
   "metadata": {},
   "outputs": [
    {
     "name": "stdout",
     "output_type": "stream",
     "text": [
      "Source raster CRS: ESRI:54009\n"
     ]
    }
   ],
   "source": [
    "# Read raster file\n",
    "smod_world_4class_1ND = rasterio.open('../01_data/gis/world_4class_1_ND.tif')\n",
    "\n",
    "# Print source CRS\n",
    "print('Source raster CRS:',smod_world_4class_1ND.crs)"
   ]
  },
  {
   "cell_type": "code",
   "execution_count": 179,
   "id": "6c834b15-83ef-4da8-91d5-b782974c9a0b",
   "metadata": {},
   "outputs": [],
   "source": [
    "# Source and target CRS\n",
    "target_crs = {'init': 'EPSG:4326'}\n",
    "src_crs = smod_world_4class_1ND.crs\n",
    "\n",
    "# Calculate transform array and shape of reprojected raster\n",
    "transform, width, height = calculate_default_transform(src_crs,\n",
    "                                                       target_crs,\n",
    "                                                      smod_world_4class_1ND.width,\n",
    "                                                      smod_world_4class_1ND.height,\n",
    "                                                      *smod_world_4class_1ND.bounds)"
   ]
  },
  {
   "cell_type": "code",
   "execution_count": 189,
   "id": "925d9feb-80da-4313-b579-aa5a565ac864",
   "metadata": {},
   "outputs": [],
   "source": [
    "# Update the meta data for the target/transformed raster\n",
    "kwargs = smod_world_4class_1ND.meta.copy()\n",
    "\n",
    "kwargs.update(\n",
    "    {\n",
    "        'crs': target_crs,\n",
    "        'transform': transform,\n",
    "        'width': width,\n",
    "        'height': height\n",
    "    }\n",
    ")"
   ]
  },
  {
   "cell_type": "code",
   "execution_count": 194,
   "id": "b7db2e75-8881-4a2f-ab1c-804c30d90f82",
   "metadata": {},
   "outputs": [],
   "source": [
    "# Open target raster\n",
    "target_raster = rasterio.open('../01_data/gis/world_4class_1_ND_WGS84.tif', 'w', **kwargs)"
   ]
  },
  {
   "cell_type": "code",
   "execution_count": 204,
   "id": "c84e386e-3e8c-468c-922a-d760dc7a4e00",
   "metadata": {},
   "outputs": [],
   "source": [
    "# Reproject and save raster data\n",
    "for i in range(1, smod_world_4class_1ND.count+1):\n",
    "    reproject(\n",
    "        source=rasterio.band(smod_world_4class_1ND, i),\n",
    "        destination=rasterio.band(target_raster, i),\n",
    "        src_transform=smod_world_4class_1ND.transform,\n",
    "        src_crs=smod_world_4class_1ND.crs,\n",
    "        dst_transform=transform,\n",
    "        dst_crs=target_crs,\n",
    "        resampling=Resampling.nearest\n",
    "    )"
   ]
  },
  {
   "cell_type": "code",
   "execution_count": 206,
   "id": "ddbc1992-59a7-481a-a85c-51218570b25e",
   "metadata": {},
   "outputs": [],
   "source": [
    "target_raster.close()"
   ]
  },
  {
   "cell_type": "code",
   "execution_count": null,
   "id": "e774ad12-893d-4dea-a95a-a8bab5e8a3bc",
   "metadata": {},
   "outputs": [],
   "source": []
  },
  {
   "cell_type": "code",
   "execution_count": null,
   "id": "b167ce41-6ef8-471a-ad9e-36dfc8d7c558",
   "metadata": {},
   "outputs": [],
   "source": []
  },
  {
   "cell_type": "code",
   "execution_count": null,
   "id": "70fa6be2-c6c8-4f66-96ce-03f41a9ca535",
   "metadata": {},
   "outputs": [],
   "source": []
  }
 ],
 "metadata": {
  "kernelspec": {
   "display_name": "ruralopolis0",
   "language": "python",
   "name": "ruralopolis0"
  },
  "language_info": {
   "codemirror_mode": {
    "name": "ipython",
    "version": 3
   },
   "file_extension": ".py",
   "mimetype": "text/x-python",
   "name": "python",
   "nbconvert_exporter": "python",
   "pygments_lexer": "ipython3",
   "version": "3.12.4"
  }
 },
 "nbformat": 4,
 "nbformat_minor": 5
}
